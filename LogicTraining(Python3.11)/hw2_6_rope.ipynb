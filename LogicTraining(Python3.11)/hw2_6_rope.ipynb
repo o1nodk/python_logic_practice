{
 "cells": [
  {
   "cell_type": "code",
   "execution_count": 1,
   "metadata": {},
   "outputs": [
    {
     "name": "stdout",
     "output_type": "stream",
     "text": [
      "繩子最後的長度為:2.9296875公尺\n",
      "花費的天數:10\n"
     ]
    }
   ],
   "source": [
    "# 將 rope 物件指向使用eval()接住的 繩子長度 回傳值\n",
    "rope = eval(input(\"請輸入繩子長度:\"))\n",
    "days = 0\n",
    "while rope >= 5:\n",
    "    rope /= 2\n",
    "    days += 1\n",
    "print(f\"繩子最後的長度為:{rope}公尺\\n花費的天數:{days}\")"
   ]
  }
 ],
 "metadata": {
  "kernelspec": {
   "display_name": "Python 3",
   "language": "python",
   "name": "python3"
  },
  "language_info": {
   "codemirror_mode": {
    "name": "ipython",
    "version": 3
   },
   "file_extension": ".py",
   "mimetype": "text/x-python",
   "name": "python",
   "nbconvert_exporter": "python",
   "pygments_lexer": "ipython3",
   "version": "3.11.1 (tags/v3.11.1:a7a450f, Dec  6 2022, 19:58:39) [MSC v.1934 64 bit (AMD64)]"
  },
  "orig_nbformat": 4,
  "vscode": {
   "interpreter": {
    "hash": "5238573367df39f7286bb46f9ff5f08f63a01a80960060ce41e3c79b190280fa"
   }
  }
 },
 "nbformat": 4,
 "nbformat_minor": 2
}
