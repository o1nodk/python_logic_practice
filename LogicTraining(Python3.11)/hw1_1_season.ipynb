{
 "cells": [
  {
   "cell_type": "code",
   "execution_count": null,
   "metadata": {},
   "outputs": [],
   "source": [
    "# 將 month 物件指向使用eval()接住的 月份 回傳值\n",
    "month = eval(input(\"請輸入月份:\"))\n",
    "# 使用match case語法(python3.10+)判斷month物件的case\n",
    "match month:\n",
    "    case 2|3|4:\n",
    "        print(f\"{month}月為春天\")\n",
    "    case 5|6|7:\n",
    "        print(f\"{month}月為夏天\")\n",
    "    case 8|9|10:\n",
    "        print(f\"{month}月為秋天\")\n",
    "    case 11|12|1:\n",
    "        print(f\"{month}月為冬天\")\n",
    "    case _:\n",
    "        print(\"輸入錯誤!!\\n(請輸入1~12間的月份)\")"
   ]
  }
 ],
 "metadata": {
  "kernelspec": {
   "display_name": "Python 3",
   "language": "python",
   "name": "python3"
  },
  "language_info": {
   "codemirror_mode": {
    "name": "ipython",
    "version": 3
   },
   "file_extension": ".py",
   "mimetype": "text/x-python",
   "name": "python",
   "nbconvert_exporter": "python",
   "pygments_lexer": "ipython3",
   "version": "3.11.1"
  },
  "orig_nbformat": 4,
  "vscode": {
   "interpreter": {
    "hash": "5238573367df39f7286bb46f9ff5f08f63a01a80960060ce41e3c79b190280fa"
   }
  }
 },
 "nbformat": 4,
 "nbformat_minor": 2
}
