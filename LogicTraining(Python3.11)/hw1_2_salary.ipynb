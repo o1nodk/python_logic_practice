{
 "cells": [
  {
   "cell_type": "code",
   "execution_count": null,
   "metadata": {},
   "outputs": [],
   "source": [
    "# 將 workingHours 物件指向使用eval()接住的 工作時數 回傳值\n",
    "workingHours = eval(input(\"請輸入工作時數(小時):\"))\n",
    "# 薪資計算\n",
    "# 60小時以內，時薪120元\n",
    "if workingHours <= 60:\n",
    "    salary = workingHours * 120\n",
    "# 61~80小時，以時薪1.25倍計算\n",
    "elif workingHours <= 80:\n",
    "    salary = (workingHours * 120) + ((workingHours - 60) * 120 * 0.25)\n",
    "# 81小時以上，以時薪1.5倍計算\n",
    "elif 81 < workingHours:\n",
    "    salary = (workingHours * 120) + ((workingHours - 60) * 120 * 0.25) + ((workingHours - 80) * 120 * 0.25)\n",
    "print(f'工作時數：{workingHours}小時\\n薪資：{int(salary)}元')"
   ]
  }
 ],
 "metadata": {
  "kernelspec": {
   "display_name": "Python 3",
   "language": "python",
   "name": "python3"
  },
  "language_info": {
   "codemirror_mode": {
    "name": "ipython",
    "version": 3
   },
   "file_extension": ".py",
   "mimetype": "text/x-python",
   "name": "python",
   "nbconvert_exporter": "python",
   "pygments_lexer": "ipython3",
   "version": "3.11.1"
  },
  "orig_nbformat": 4,
  "vscode": {
   "interpreter": {
    "hash": "5238573367df39f7286bb46f9ff5f08f63a01a80960060ce41e3c79b190280fa"
   }
  }
 },
 "nbformat": 4,
 "nbformat_minor": 2
}
