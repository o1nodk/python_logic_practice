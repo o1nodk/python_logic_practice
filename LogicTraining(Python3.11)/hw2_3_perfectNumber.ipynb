{
 "cells": [
  {
   "cell_type": "code",
   "execution_count": 4,
   "metadata": {},
   "outputs": [
    {
     "name": "stdout",
     "output_type": "stream",
     "text": [
      "10000 以內的 perfect number 有:\n",
      "6\n",
      "28\n",
      "496\n",
      "8128\n",
      "\n"
     ]
    }
   ],
   "source": [
    "# 將 maxNum 物件指向使用eval()接住的 尋找 perfect number 的上限範圍 回傳值\n",
    "maxNum = eval(input(\"請輸入尋找 perfect number 的上限範圍:\"))\n",
    "perfectNumList = \"\"\n",
    "for perfectNum in range(1,maxNum+1):\n",
    "    sumFactor = 0\n",
    "    for factor in range(1,perfectNum):\n",
    "        if not perfectNum % factor:\n",
    "            sumFactor += factor\n",
    "    if sumFactor == perfectNum:\n",
    "        perfectNumList += f\"{perfectNum}\\n\"\n",
    "print(f\"{maxNum} 以內的 perfect number 有:\\n{perfectNumList}\")"
   ]
  }
 ],
 "metadata": {
  "kernelspec": {
   "display_name": "Python 3",
   "language": "python",
   "name": "python3"
  },
  "language_info": {
   "codemirror_mode": {
    "name": "ipython",
    "version": 3
   },
   "file_extension": ".py",
   "mimetype": "text/x-python",
   "name": "python",
   "nbconvert_exporter": "python",
   "pygments_lexer": "ipython3",
   "version": "3.11.1 (tags/v3.11.1:a7a450f, Dec  6 2022, 19:58:39) [MSC v.1934 64 bit (AMD64)]"
  },
  "orig_nbformat": 4,
  "vscode": {
   "interpreter": {
    "hash": "5238573367df39f7286bb46f9ff5f08f63a01a80960060ce41e3c79b190280fa"
   }
  }
 },
 "nbformat": 4,
 "nbformat_minor": 2
}
