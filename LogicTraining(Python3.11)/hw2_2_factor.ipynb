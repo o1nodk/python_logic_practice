{
 "cells": [
  {
   "cell_type": "code",
   "execution_count": 1,
   "metadata": {},
   "outputs": [
    {
     "name": "stdout",
     "output_type": "stream",
     "text": [
      "496 的因數為:1,2,4,8,16,31,62,124,248,496。\n"
     ]
    }
   ],
   "source": [
    "# 將 postiveInt 物件指向使用eval()接住的 正整數 回傳值\n",
    "postiveInt = eval(input(\"請輸入正整數:\"))\n",
    "factorList = \"\"\n",
    "for factor in range(1,postiveInt+1):\n",
    "    # postiveInt 除以 i 餘數為 0 => i 為 postiveInt 的因數\n",
    "    # 但 0 = False 所以不處裡因數 => 處理非因數\n",
    "    if postiveInt % factor:\n",
    "        continue\n",
    "    else:\n",
    "        factorList += f\"{factor}\"\n",
    "        if postiveInt != factor:\n",
    "            factorList += \",\"\n",
    "        else:\n",
    "            factorList += \"。\"\n",
    "print(f\"{postiveInt} 的因數為:{factorList}\")"
   ]
  }
 ],
 "metadata": {
  "kernelspec": {
   "display_name": "Python 3",
   "language": "python",
   "name": "python3"
  },
  "language_info": {
   "codemirror_mode": {
    "name": "ipython",
    "version": 3
   },
   "file_extension": ".py",
   "mimetype": "text/x-python",
   "name": "python",
   "nbconvert_exporter": "python",
   "pygments_lexer": "ipython3",
   "version": "3.11.1"
  },
  "orig_nbformat": 4,
  "vscode": {
   "interpreter": {
    "hash": "5238573367df39f7286bb46f9ff5f08f63a01a80960060ce41e3c79b190280fa"
   }
  }
 },
 "nbformat": 4,
 "nbformat_minor": 2
}
