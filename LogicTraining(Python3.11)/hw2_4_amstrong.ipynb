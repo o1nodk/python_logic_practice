{
 "cells": [
  {
   "cell_type": "code",
   "execution_count": 1,
   "metadata": {},
   "outputs": [
    {
     "name": "stdout",
     "output_type": "stream",
     "text": [
      "100 ~ 999 範圍中的 amstrong number 有:\n",
      "153\n",
      "370\n",
      "371\n",
      "407\n",
      "\n"
     ]
    }
   ],
   "source": [
    "# 將 minNum 物件指向使用eval()接住的 尋找 amstrong number 的下限範圍 回傳值\n",
    "minNum = eval(input(\"請輸入尋找 amstrong number 的下限範圍(3位數):\"))\n",
    "# 將 maxNum 物件指向使用eval()接住的 尋找 amstrong number 的上限範圍 回傳值\n",
    "maxNum = eval(input(\"請輸入尋找 amstrong number 的上限範圍(3位數):\"))\n",
    "amstrongNumList = \"\"\n",
    "for amstrongNum in range(minNum,maxNum+1):\n",
    "    sum = 0\n",
    "    hunDigit = int(amstrongNum / 100)\n",
    "    tenDigit = int((amstrongNum - hunDigit*100) / 10)\n",
    "    unitDigit = int(amstrongNum - hunDigit*100 - tenDigit*10)\n",
    "    sum = hunDigit**3 + tenDigit**3 + unitDigit**3\n",
    "    if sum == amstrongNum:\n",
    "        amstrongNumList += f\"{sum}\\n\"\n",
    "print(f\"{minNum} ~ {maxNum} 範圍中的 amstrong number 有:\\n{amstrongNumList}\")"
   ]
  }
 ],
 "metadata": {
  "kernelspec": {
   "display_name": "Python 3",
   "language": "python",
   "name": "python3"
  },
  "language_info": {
   "codemirror_mode": {
    "name": "ipython",
    "version": 3
   },
   "file_extension": ".py",
   "mimetype": "text/x-python",
   "name": "python",
   "nbconvert_exporter": "python",
   "pygments_lexer": "ipython3",
   "version": "3.11.1 (tags/v3.11.1:a7a450f, Dec  6 2022, 19:58:39) [MSC v.1934 64 bit (AMD64)]"
  },
  "orig_nbformat": 4,
  "vscode": {
   "interpreter": {
    "hash": "5238573367df39f7286bb46f9ff5f08f63a01a80960060ce41e3c79b190280fa"
   }
  }
 },
 "nbformat": 4,
 "nbformat_minor": 2
}
