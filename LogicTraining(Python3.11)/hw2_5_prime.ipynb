{
 "cells": [
  {
   "cell_type": "code",
   "execution_count": 8,
   "metadata": {},
   "outputs": [
    {
     "name": "stdout",
     "output_type": "stream",
     "text": [
      "100 以內的 prime number 有:\n",
      "2\n",
      "3\n",
      "5\n",
      "7\n",
      "11\n",
      "13\n",
      "17\n",
      "19\n",
      "23\n",
      "29\n",
      "31\n",
      "37\n",
      "41\n",
      "43\n",
      "47\n",
      "53\n",
      "59\n",
      "61\n",
      "67\n",
      "71\n",
      "73\n",
      "79\n",
      "83\n",
      "89\n",
      "97\n",
      "\n"
     ]
    }
   ],
   "source": [
    "# 將 postiveInt 物件指向使用eval()接住的 正整數 回傳值\n",
    "postiveInt = eval(input(\"請輸入正整數:\"))\n",
    "primeNumList = \"\"\n",
    "for primeNum in range(1,postiveInt+1):\n",
    "    sumFactor = 0\n",
    "    for factor in range(1,primeNum):\n",
    "        if not primeNum % factor:\n",
    "            sumFactor += factor\n",
    "    if sumFactor == 1:\n",
    "        primeNumList += f\"{primeNum}\\n\"\n",
    "print(f\"{postiveInt} 以內的 prime number 有:\\n{primeNumList}\")"
   ]
  }
 ],
 "metadata": {
  "kernelspec": {
   "display_name": "Python 3",
   "language": "python",
   "name": "python3"
  },
  "language_info": {
   "codemirror_mode": {
    "name": "ipython",
    "version": 3
   },
   "file_extension": ".py",
   "mimetype": "text/x-python",
   "name": "python",
   "nbconvert_exporter": "python",
   "pygments_lexer": "ipython3",
   "version": "3.11.1 (tags/v3.11.1:a7a450f, Dec  6 2022, 19:58:39) [MSC v.1934 64 bit (AMD64)]"
  },
  "orig_nbformat": 4,
  "vscode": {
   "interpreter": {
    "hash": "5238573367df39f7286bb46f9ff5f08f63a01a80960060ce41e3c79b190280fa"
   }
  }
 },
 "nbformat": 4,
 "nbformat_minor": 2
}
