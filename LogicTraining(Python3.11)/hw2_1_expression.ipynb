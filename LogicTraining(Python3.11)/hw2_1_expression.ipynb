{
 "cells": [
  {
   "cell_type": "code",
   "execution_count": null,
   "metadata": {},
   "outputs": [],
   "source": [
    "# 將 maxNum 物件指向使用eval()接住的 迴圈最大值 回傳值\n",
    "maxNum = eval(input(\"請輸入迴圈的最大值:\"))\n",
    "# 開始計算\n",
    "result = 0\n",
    "# 使用內建函數 range(start,stop,[,step]) 產生一個數列\n",
    "# start 預設為 0(要修正)，step 預設為 1 (可略)\n",
    "for i in range(1,maxNum):\n",
    "    # i 除以 2 餘數為 0 => i 為整數\n",
    "    # 但 0 = False 所以不處裡偶數 => 處理奇數\n",
    "    if i % 2:\n",
    "        result += i**2\n",
    "    else:\n",
    "        result += -(i**2)\n",
    "print(f\"答案為:{result}\")"
   ]
  }
 ],
 "metadata": {
  "kernelspec": {
   "display_name": "Python 3",
   "language": "python",
   "name": "python3"
  },
  "language_info": {
   "codemirror_mode": {
    "name": "ipython",
    "version": 3
   },
   "file_extension": ".py",
   "mimetype": "text/x-python",
   "name": "python",
   "nbconvert_exporter": "python",
   "pygments_lexer": "ipython3",
   "version": "3.11.1"
  },
  "orig_nbformat": 4,
  "vscode": {
   "interpreter": {
    "hash": "5238573367df39f7286bb46f9ff5f08f63a01a80960060ce41e3c79b190280fa"
   }
  }
 },
 "nbformat": 4,
 "nbformat_minor": 2
}
