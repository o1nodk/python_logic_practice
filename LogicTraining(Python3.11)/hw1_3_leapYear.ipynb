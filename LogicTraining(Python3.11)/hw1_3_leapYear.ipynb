{
 "cells": [
  {
   "cell_type": "code",
   "execution_count": null,
   "metadata": {},
   "outputs": [],
   "source": [
    "# 將 year 物件指向使用eval()接住的 西元年份 回傳值\n",
    "year = eval(input(\"請輸入年份(西元):\"))\n",
    "# 判斷year是否為閏年\n",
    "# 每四年一閏\n",
    "if year % 4 == 0:\n",
    "    # 每百年不閏\n",
    "    if year % 100 == 0:\n",
    "        # 每四百年一閏\n",
    "        if year % 400 == 0:\n",
    "            print(f\"西元{year}年，是閏年\")\n",
    "        else:\n",
    "            print(f\"西元{year}年，不是閏年\")\n",
    "    else:\n",
    "        print(f\"西元{year}年，是閏年\")\n",
    "else:\n",
    "    print(f\"西元{year}年，不是閏年\")"
   ]
  }
 ],
 "metadata": {
  "kernelspec": {
   "display_name": "Python 3",
   "language": "python",
   "name": "python3"
  },
  "language_info": {
   "codemirror_mode": {
    "name": "ipython",
    "version": 3
   },
   "file_extension": ".py",
   "mimetype": "text/x-python",
   "name": "python",
   "nbconvert_exporter": "python",
   "pygments_lexer": "ipython3",
   "version": "3.11.1"
  },
  "orig_nbformat": 4,
  "vscode": {
   "interpreter": {
    "hash": "5238573367df39f7286bb46f9ff5f08f63a01a80960060ce41e3c79b190280fa"
   }
  }
 },
 "nbformat": 4,
 "nbformat_minor": 2
}
