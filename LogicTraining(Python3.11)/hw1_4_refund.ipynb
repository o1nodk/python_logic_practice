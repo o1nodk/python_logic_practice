{
 "cells": [
  {
   "cell_type": "code",
   "execution_count": null,
   "metadata": {},
   "outputs": [],
   "source": [
    "# 將 payable 物件指向使用eval()接住的 應付金額 回傳值\n",
    "payable = eval(input(\"請輸入應付金額:\"))\n",
    "# 將 paid 物件指向使用eval()接住的 實付金額 回傳值\n",
    "paid = eval(input(\"請輸入實付金額:\"))\n",
    "giveChange = paid - payable\n",
    "# 判斷是否找零\n",
    "# 金額不足\n",
    "if giveChange < 0:\n",
    "    print(f\"金額不足\\n差 {payable - paid} 元\")\n",
    "# 不必找零\n",
    "elif giveChange == 0:\n",
    "    print(f\"不必找零\\n消費金額 {payable} 元\")\n",
    "# 需要找零\n",
    "else:\n",
    "    money = [1000,500,100,50,10,5,1]\n",
    "    result = \"\"\n",
    "    for i in money:\n",
    "        change = giveChange / i\n",
    "        giveChange -= int(change) * i\n",
    "        if int(change) != 0 and i >= 100:\n",
    "            result += f\" {int(change)} 張 {i} 元鈔票\"\n",
    "            if giveChange != 0:\n",
    "                result += \"，\"\n",
    "        elif int(change) != 0 and i < 100:\n",
    "            result += f\" {int(change)} 個 {i} 元硬幣\"\n",
    "            if giveChange != 0:\n",
    "                result += \"，\"\n",
    "    print(f\"消費金額 {payable} 元\\n支付金額 {paid} 元\\n找零:{result}。\")"
   ]
  }
 ],
 "metadata": {
  "kernelspec": {
   "display_name": "Python 3",
   "language": "python",
   "name": "python3"
  },
  "language_info": {
   "codemirror_mode": {
    "name": "ipython",
    "version": 3
   },
   "file_extension": ".py",
   "mimetype": "text/x-python",
   "name": "python",
   "nbconvert_exporter": "python",
   "pygments_lexer": "ipython3",
   "version": "3.11.1"
  },
  "orig_nbformat": 4,
  "vscode": {
   "interpreter": {
    "hash": "5238573367df39f7286bb46f9ff5f08f63a01a80960060ce41e3c79b190280fa"
   }
  }
 },
 "nbformat": 4,
 "nbformat_minor": 2
}
